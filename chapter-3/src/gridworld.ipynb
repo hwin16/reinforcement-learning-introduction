{
 "cells": [
  {
   "cell_type": "code",
   "execution_count": 1,
   "metadata": {},
   "outputs": [],
   "source": [
    "import numpy as np"
   ]
  },
  {
   "cell_type": "code",
   "execution_count": 2,
   "metadata": {},
   "outputs": [],
   "source": [
    "actions = {\n",
    "    'n': 0.25,\n",
    "    's': 0.25,\n",
    "    'e': 0.25,\n",
    "    'w': 0.25\n",
    "}\n",
    "discount_factor = 0.9\n",
    "epochs = 1000"
   ]
  },
  {
   "cell_type": "code",
   "execution_count": 3,
   "metadata": {},
   "outputs": [],
   "source": [
    "def calculate_reward(state_coord, action):\n",
    "    x, y = state_coord\n",
    "    reward = 0\n",
    "    \n",
    "    if action == 'n':\n",
    "        x = x-1\n",
    "    elif action == 's':\n",
    "        x = x+1\n",
    "    elif action == 'e':\n",
    "        y = y+1\n",
    "    elif action == 'w':\n",
    "        y = y-1\n",
    "        \n",
    "    # if x, y went beyond boundaries, return in same state and reward = -1\n",
    "    if x < 0: \n",
    "        x = 0\n",
    "        reward = -1\n",
    "        \n",
    "    if x > 4: \n",
    "        x = 4\n",
    "        reward = -1\n",
    "        \n",
    "    if y < 0: \n",
    "        y = 0\n",
    "        reward = -1\n",
    "        \n",
    "    if y > 4: \n",
    "        y = 4\n",
    "        reward = -1\n",
    "        \n",
    "    # special states A -> A' and B -> B'\n",
    "    if state_coord == (0, 1):\n",
    "        x, y = (4, 1)\n",
    "        reward = 10\n",
    "    \n",
    "    if state_coord == (0, 3):\n",
    "        x, y = (2, 3)\n",
    "        reward = 5\n",
    "    \n",
    "    return (x, y, reward)"
   ]
  },
  {
   "cell_type": "code",
   "execution_count": 4,
   "metadata": {},
   "outputs": [],
   "source": [
    "gridworld = np.zeros((5, 5))\n",
    "for epoch in range(epochs):\n",
    "    with np.nditer(gridworld, op_flags=['readwrite'], flags=['multi_index']) as it:\n",
    "        for item in it:\n",
    "            i, j = it.multi_index\n",
    "            tmp_values = 0\n",
    "            for action, action_prob in actions.items():\n",
    "                x, y, r_next = calculate_reward((i, j), action)\n",
    "                # p(s', r|s, a) = 1 because, for example, if you choose action north,\n",
    "                # p(s'=top, r=0|s, a=north) = 1 (only this matters)\n",
    "                # p(s'=left, r=0|s, a=north) = 0\n",
    "                # p(s'=right, r=0|s, a=north) = 0\n",
    "                # p(s'=bottom, r=0|s, a=north) = 0\n",
    "                # Bellman equation(E.q. 3.14 BartoSutton book)\n",
    "                value = action_prob * 1 * (r_next + (discount_factor) * gridworld[x][y])\n",
    "                tmp_values += value\n",
    "            item[...] = tmp_values"
   ]
  },
  {
   "cell_type": "code",
   "execution_count": 5,
   "metadata": {},
   "outputs": [
    {
     "data": {
      "text/plain": [
       "array([[ 3.30899634,  8.78929186,  4.42761918,  5.32236759,  1.49217876],\n",
       "       [ 1.52158807,  2.99231786,  2.25013995,  1.9075717 ,  0.54740271],\n",
       "       [ 0.05082249,  0.73817059,  0.67311326,  0.35818621, -0.40314114],\n",
       "       [-0.9735923 , -0.43549543, -0.35488227, -0.58560509, -1.18307508],\n",
       "       [-1.85770055, -1.34523126, -1.22926726, -1.42291815, -1.97517905]])"
      ]
     },
     "execution_count": 5,
     "metadata": {},
     "output_type": "execute_result"
    }
   ],
   "source": [
    "gridworld"
   ]
  },
  {
   "cell_type": "code",
   "execution_count": 19,
   "metadata": {},
   "outputs": [],
   "source": [
    "optimal_gridworld = np.zeros((5, 5))\n",
    "for epoch in range(epochs):\n",
    "    with np.nditer(optimal_gridworld, op_flags=['readwrite'], flags=['multi_index']) as it:\n",
    "        for item in it:\n",
    "            i, j = it.multi_index\n",
    "            max_value = -1000 # could possibly use negative infinity\n",
    "            for action, action_prob in actions.items():\n",
    "                x, y, r_next = calculate_reward((i, j), action)\n",
    "                value = r_next + (discount_factor) * optimal_gridworld[x][y]\n",
    "                if value > max_value: \n",
    "                    max_value = value\n",
    "            item[...] = max_value"
   ]
  },
  {
   "cell_type": "code",
   "execution_count": 20,
   "metadata": {},
   "outputs": [
    {
     "data": {
      "text/plain": [
       "array([[21.97748529, 24.4194281 , 21.97748529, 19.4194281 , 17.47748529],\n",
       "       [19.77973676, 21.97748529, 19.77973676, 17.80176308, 16.02158677],\n",
       "       [17.80176308, 19.77973676, 17.80176308, 16.02158677, 14.4194281 ],\n",
       "       [16.02158677, 17.80176308, 16.02158677, 14.4194281 , 12.97748529],\n",
       "       [14.4194281 , 16.02158677, 14.4194281 , 12.97748529, 11.67973676]])"
      ]
     },
     "execution_count": 20,
     "metadata": {},
     "output_type": "execute_result"
    }
   ],
   "source": [
    "optimal_gridworld"
   ]
  },
  {
   "cell_type": "code",
   "execution_count": null,
   "metadata": {},
   "outputs": [],
   "source": []
  }
 ],
 "metadata": {
  "kernelspec": {
   "display_name": "Python 3",
   "language": "python",
   "name": "python3"
  },
  "language_info": {
   "codemirror_mode": {
    "name": "ipython",
    "version": 3
   },
   "file_extension": ".py",
   "mimetype": "text/x-python",
   "name": "python",
   "nbconvert_exporter": "python",
   "pygments_lexer": "ipython3",
   "version": "3.8.2"
  }
 },
 "nbformat": 4,
 "nbformat_minor": 4
}
