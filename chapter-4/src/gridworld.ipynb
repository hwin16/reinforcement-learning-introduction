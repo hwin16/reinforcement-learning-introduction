{
 "cells": [
  {
   "cell_type": "code",
   "execution_count": 1,
   "metadata": {},
   "outputs": [],
   "source": [
    "import numpy as np\n",
    "import math"
   ]
  },
  {
   "cell_type": "code",
   "execution_count": 2,
   "metadata": {},
   "outputs": [],
   "source": [
    "def compute_next_state(current, action, dim):\n",
    "    x, y = current\n",
    "    coord = None\n",
    "    \n",
    "    if action == 'up':\n",
    "        coord = (x-1, y) if x-1 >= 0 else (x, y)\n",
    "    elif action == 'down':\n",
    "        coord = (x+1, y) if x+1 < dim else (x, y)\n",
    "    elif action == 'left':\n",
    "        coord = (x, y-1) if y-1 >= 0 else (x, y)\n",
    "    elif action == 'right':\n",
    "        coord = (x, y+1) if y+1 < dim else (x, y)\n",
    "    \n",
    "    return coord"
   ]
  },
  {
   "cell_type": "code",
   "execution_count": 3,
   "metadata": {},
   "outputs": [],
   "source": [
    "'''\n",
    "This is the algorithm from Chapter 4.1 Policy Evaluation policy\n",
    "Iterative Policy Evaluation\n",
    "'''\n",
    "def eval_policy(policy, theta):\n",
    "    # 1. init the values\n",
    "    grid = np.zeros((4, 4))\n",
    "    terminal_states = [ (0,0), (3, 3) ]\n",
    "\n",
    "    while True: \n",
    "        delta = 0.0\n",
    "        state_iter = np.nditer(grid, flags=['multi_index'])\n",
    "\n",
    "        for item in state_iter:\n",
    "            old_value = item\n",
    "            x, y = state_iter.multi_index\n",
    "\n",
    "            if (x, y) in terminal_states:\n",
    "                continue\n",
    "\n",
    "            value = 0.0\n",
    "            for action, prob in policy.items():\n",
    "                next_state_x, next_state_y = compute_next_state((x, y), action, 4)\n",
    "                value += prob * 1 * (-1 + grid[next_state_x][next_state_y])\n",
    "\n",
    "            delta = max(delta, abs(value - old_value))\n",
    "            grid[x][y] = value\n",
    "\n",
    "        if delta < theta: \n",
    "            break\n",
    "    print(grid)"
   ]
  },
  {
   "cell_type": "code",
   "execution_count": 4,
   "metadata": {},
   "outputs": [
    {
     "name": "stdout",
     "output_type": "stream",
     "text": [
      "[[  0.         -13.65620118 -19.5057432  -21.45597877]\n",
      " [-13.65620118 -17.57811374 -19.54192847 -19.54716624]\n",
      " [-19.5057432  -19.54192847 -17.6134715  -13.71141307]\n",
      " [-21.45597877 -19.54716624 -13.71141307   0.        ]]\n"
     ]
    }
   ],
   "source": [
    "theta = 0.05\n",
    "\n",
    "policy = { \n",
    "    'up': 0.25,\n",
    "    'down': 0.25,\n",
    "    'left': 0.25,\n",
    "    'right': 0.25\n",
    "}\n",
    "\n",
    "# figure 4.1 last diagram\n",
    "eval_policy(policy, theta)"
   ]
  }
 ],
 "metadata": {
  "kernelspec": {
   "display_name": "Python 3",
   "language": "python",
   "name": "python3"
  },
  "language_info": {
   "codemirror_mode": {
    "name": "ipython",
    "version": 3
   },
   "file_extension": ".py",
   "mimetype": "text/x-python",
   "name": "python",
   "nbconvert_exporter": "python",
   "pygments_lexer": "ipython3",
   "version": "3.8.2"
  }
 },
 "nbformat": 4,
 "nbformat_minor": 4
}
